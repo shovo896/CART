{
 "cells": [
  {
   "cell_type": "code",
   "execution_count": 1,
   "id": "027888f6",
   "metadata": {},
   "outputs": [
    {
     "ename": "NameError",
     "evalue": "name 'iris' is not defined",
     "output_type": "error",
     "traceback": [
      "\u001b[31m---------------------------------------------------------------------------\u001b[39m",
      "\u001b[31mNameError\u001b[39m                                 Traceback (most recent call last)",
      "\u001b[36mCell\u001b[39m\u001b[36m \u001b[39m\u001b[32mIn[1]\u001b[39m\u001b[32m, line 9\u001b[39m\n\u001b[32m      7\u001b[39m \u001b[38;5;66;03m# Load the Diabetes dataset\u001b[39;00m\n\u001b[32m      8\u001b[39m lris =load_iris()\n\u001b[32m----> \u001b[39m\u001b[32m9\u001b[39m X = \u001b[43miris\u001b[49m.data  \u001b[38;5;66;03m# Features\u001b[39;00m\n\u001b[32m     10\u001b[39m y = iris.target  \u001b[38;5;66;03m# Target variable\u001b[39;00m\n",
      "\u001b[31mNameError\u001b[39m: name 'iris' is not defined"
     ]
    }
   ],
   "source": [
    "import numpy as np\n",
    "from sklearn.datasets import load_iris\n",
    "from sklearn.tree import DecisionTreeRegressor\n",
    "from sklearn.model_selection import train_test_split\n",
    "from sklearn.metrics import mean_squared_error, r2_score\n",
    "\n",
    "# Load the Diabetes dataset\n",
    "lris =load_iris()\n",
    "X = iris.data  # Features\n",
    "y = iris.target  # Target variable"
   ]
  },
  {
   "cell_type": "markdown",
   "id": "77db081b",
   "metadata": {},
   "source": []
  },
  {
   "cell_type": "code",
   "execution_count": null,
   "id": "c8ac0017",
   "metadata": {},
   "outputs": [],
   "source": []
  }
 ],
 "metadata": {
  "kernelspec": {
   "display_name": "Python 3",
   "language": "python",
   "name": "python3"
  },
  "language_info": {
   "codemirror_mode": {
    "name": "ipython",
    "version": 3
   },
   "file_extension": ".py",
   "mimetype": "text/x-python",
   "name": "python",
   "nbconvert_exporter": "python",
   "pygments_lexer": "ipython3",
   "version": "3.13.7"
  }
 },
 "nbformat": 4,
 "nbformat_minor": 5
}
