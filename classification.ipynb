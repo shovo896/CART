{
 "cells": [
  {
   "cell_type": "code",
   "execution_count": 2,
   "id": "b4e50880",
   "metadata": {},
   "outputs": [],
   "source": [
    "import  numpy as np \n",
    "import pandas as pd \n",
    "from sklearn.datasets import load_iris\n",
    "from sklearn.model_selection import train_test_split \n",
    "from sklearn.tree import DecisionTreeClassifier\n",
    "from sklearn.metrics import classification_report ,accuracy_score \n",
    "import matplotlib.pyplot as plt \n",
    "from sklearn import tree"
   ]
  },
  {
   "cell_type": "markdown",
   "id": "f06312ab",
   "metadata": {},
   "source": [
    "Load "
   ]
  }
 ],
 "metadata": {
  "kernelspec": {
   "display_name": "Python 3",
   "language": "python",
   "name": "python3"
  },
  "language_info": {
   "codemirror_mode": {
    "name": "ipython",
    "version": 3
   },
   "file_extension": ".py",
   "mimetype": "text/x-python",
   "name": "python",
   "nbconvert_exporter": "python",
   "pygments_lexer": "ipython3",
   "version": "3.13.7"
  }
 },
 "nbformat": 4,
 "nbformat_minor": 5
}
