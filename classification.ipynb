{
 "cells": [
  {
   "cell_type": "code",
   "execution_count": 2,
   "id": "b4e50880",
   "metadata": {},
   "outputs": [],
   "source": [
    "import  numpy as np \n",
    "import pandas as pd \n",
    "from sklearn.datasets import load_iris\n",
    "from sklearn.model_selection import train_test_split \n",
    "from sklearn.tree import DecisionTreeClassifier\n",
    "from sklearn.metrics import classification_report ,accuracy_score \n",
    "import matplotlib.pyplot as plt \n",
    "from sklearn import tree"
   ]
  },
  {
   "cell_type": "markdown",
   "id": "f06312ab",
   "metadata": {},
   "source": [
    "Load the Iris dataset ,contains features and targated values "
   ]
  },
  {
   "cell_type": "code",
   "execution_count": 4,
   "id": "47cfa30b",
   "metadata": {},
   "outputs": [],
   "source": [
    "iris=load_iris()\n",
    "X=iris.data\n",
    "y=iris.target\n",
    "iris_df=pd.DataFrame(data=iris.data,columns=iris.feature_names)\n",
    "iris_df['species']=iris.target_names[iris.target]"
   ]
  },
  {
   "cell_type": "code",
   "execution_count": null,
   "id": "d21d985f",
   "metadata": {},
   "outputs": [],
   "source": [
    "Split the Data and the feature matrix and target values ,\n",
    "test size will be 0.3 and remaining 70% will be used for training "
   ]
  },
  {
   "cell_type": "code",
   "execution_count": 5,
   "id": "a2b829cb",
   "metadata": {},
   "outputs": [
    {
     "ename": "NameError",
     "evalue": "name 'tarin_test_split' is not defined",
     "output_type": "error",
     "traceback": [
      "\u001b[31m---------------------------------------------------------------------------\u001b[39m",
      "\u001b[31mNameError\u001b[39m                                 Traceback (most recent call last)",
      "\u001b[36mCell\u001b[39m\u001b[36m \u001b[39m\u001b[32mIn[5]\u001b[39m\u001b[32m, line 1\u001b[39m\n\u001b[32m----> \u001b[39m\u001b[32m1\u001b[39m X_train,X_test,y_train ,y_test=\u001b[43mtarin_test_split\u001b[49m(X,y,test_size=\u001b[32m0.3\u001b[39m,random_state=\u001b[32m42\u001b[39m)\n",
      "\u001b[31mNameError\u001b[39m: name 'tarin_test_split' is not defined"
     ]
    }
   ],
   "source": [
    "X_train,X_test,y_train ,y_test=tarin_test_split(X,y,test_size=0.3,random_state=42)"
   ]
  }
 ],
 "metadata": {
  "kernelspec": {
   "display_name": "Python 3",
   "language": "python",
   "name": "python3"
  },
  "language_info": {
   "codemirror_mode": {
    "name": "ipython",
    "version": 3
   },
   "file_extension": ".py",
   "mimetype": "text/x-python",
   "name": "python",
   "nbconvert_exporter": "python",
   "pygments_lexer": "ipython3",
   "version": "3.13.7"
  }
 },
 "nbformat": 4,
 "nbformat_minor": 5
}
